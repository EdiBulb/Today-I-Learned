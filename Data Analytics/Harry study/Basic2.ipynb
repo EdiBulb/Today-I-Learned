{
 "cells": [
  {
   "cell_type": "markdown",
   "metadata": {},
   "source": [
    "# Data Cleaning & Preprocessing"
   ]
  },
  {
   "cell_type": "code",
   "execution_count": 17,
   "metadata": {},
   "outputs": [
    {
     "name": "stdout",
     "output_type": "stream",
     "text": [
      "Original DataFrame\n",
      "    ID     Name   Age   Salary\n",
      "0  1.0    Alice  25.0  50000.0\n",
      "1  2.0      Bob   NaN  60000.0\n",
      "2  2.0      Bob  32.0  60000.0\n",
      "3  3.0  Charlie  28.0  70000.0\n",
      "4  4.0    David  29.0      NaN\n",
      "5  5.0     Emma   NaN  80000.0\n",
      "6  NaN    Frank  35.0  90000.0\n",
      "7  6.0   George  40.0      NaN\n",
      "\n",
      " Cleaned DataFrame\n",
      "   ID     Name   Age        Salary\n",
      "0   1    Alice  25.0  50000.000000\n",
      "1   2      Bob  30.5  60000.000000\n",
      "2   2      Bob  32.0  60000.000000\n",
      "3   3  Charlie  28.0  70000.000000\n",
      "4   4    David  29.0  68333.333333\n",
      "5   5     Emma  30.5  80000.000000\n",
      "7   6   George  40.0  68333.333333\n"
     ]
    },
    {
     "name": "stderr",
     "output_type": "stream",
     "text": [
      "C:\\Users\\USER\\AppData\\Local\\Temp\\ipykernel_17136\\4262055242.py:18: FutureWarning: A value is trying to be set on a copy of a DataFrame or Series through chained assignment using an inplace method.\n",
      "The behavior will change in pandas 3.0. This inplace method will never work because the intermediate object on which we are setting values always behaves as a copy.\n",
      "\n",
      "For example, when doing 'df[col].method(value, inplace=True)', try using 'df.method({col: value}, inplace=True)' or df[col] = df[col].method(value) instead, to perform the operation inplace on the original object.\n",
      "\n",
      "\n",
      "  df['Age'].fillna(df['Age'].median(), inplace=True)\n",
      "C:\\Users\\USER\\AppData\\Local\\Temp\\ipykernel_17136\\4262055242.py:19: FutureWarning: A value is trying to be set on a copy of a DataFrame or Series through chained assignment using an inplace method.\n",
      "The behavior will change in pandas 3.0. This inplace method will never work because the intermediate object on which we are setting values always behaves as a copy.\n",
      "\n",
      "For example, when doing 'df[col].method(value, inplace=True)', try using 'df.method({col: value}, inplace=True)' or df[col] = df[col].method(value) instead, to perform the operation inplace on the original object.\n",
      "\n",
      "\n",
      "  df['Salary'].fillna(df['Salary'].mean(), inplace=True)\n"
     ]
    }
   ],
   "source": [
    "import pandas as pd\n",
    "import numpy as np\n",
    "\n",
    "# Sample dataset with missing values and duplicates\n",
    "data = {\n",
    "    'ID': [1, 2, 2, 3, 4, 5, np.nan, 6],\n",
    "    'Name': ['Alice', 'Bob', 'Bob', 'Charlie', 'David', 'Emma', 'Frank', 'George'],\n",
    "    'Age': [25, np.nan, 32, 28, 29, np.nan, 35, 40],\n",
    "    'Salary': [50000, 60000, 60000, 70000, np.nan, 80000, 90000, np.nan]\n",
    "}\n",
    "\n",
    "df = pd.DataFrame(data)\n",
    "\n",
    "print(\"Original DataFrame\")\n",
    "print(df)\n",
    "\n",
    "# Handling missing values\n",
    "df['Age'].fillna(df['Age'].median(), inplace=True)\n",
    "df['Salary'].fillna(df['Salary'].mean(), inplace=True)\n",
    "\n",
    "# Dropping duplicate rows\n",
    "df.drop_duplicates(inplace=True)\n",
    "\n",
    "# Dropping rows with missing 'ID'\n",
    "df.dropna(subset=['ID'], inplace=True)\n",
    "\n",
    "# Convert 'ID' to integer\n",
    "df['ID'] = df['ID'].astype(int)\n",
    "\n",
    "print(\"\\n Cleaned DataFrame\")\n",
    "print(df)\n"
   ]
  },
  {
   "cell_type": "markdown",
   "metadata": {},
   "source": [
    "to remove duplicated ID, you need to use \n",
    "\n",
    "df.drop_duplicates(subset=['ID'], inplace=True)"
   ]
  },
  {
   "cell_type": "markdown",
   "metadata": {},
   "source": [
    "# Data Aggregation & Grouping"
   ]
  },
  {
   "cell_type": "code",
   "execution_count": 19,
   "metadata": {},
   "outputs": [
    {
     "name": "stdout",
     "output_type": "stream",
     "text": [
      "\n",
      " Average Age and Salary by Department:\n",
      "             Age        Salary\n",
      "Department                    \n",
      "HR          28.6  65666.666667\n",
      "IT          40.0  68333.333333\n",
      "Sales       32.0  60000.000000\n",
      "   ID     Name   Age        Salary Department\n",
      "0   1    Alice  25.0  50000.000000         HR\n",
      "1   2      Bob  30.5  60000.000000         HR\n",
      "2   2      Bob  32.0  60000.000000      Sales\n",
      "3   3  Charlie  28.0  70000.000000         HR\n",
      "4   4    David  29.0  68333.333333         HR\n",
      "5   5     Emma  30.5  80000.000000         HR\n",
      "7   6   George  40.0  68333.333333         IT\n"
     ]
    }
   ],
   "source": [
    "# Sample DataFrame\n",
    "df['Department'] = np.random.choice(['HR', 'IT', 'Sales'], size=len(df))\n",
    "\n",
    "# Group by 'Department' and compute mean salary & age\n",
    "grouped = df.groupby('Department').agg({'Age': 'mean', 'Salary': 'mean'})\n",
    "\n",
    "print(\"\\n Average Age and Salary by Department:\")\n",
    "print(grouped)\n",
    "\n",
    "print(df)"
   ]
  }
 ],
 "metadata": {
  "kernelspec": {
   "display_name": "base",
   "language": "python",
   "name": "python3"
  },
  "language_info": {
   "codemirror_mode": {
    "name": "ipython",
    "version": 3
   },
   "file_extension": ".py",
   "mimetype": "text/x-python",
   "name": "python",
   "nbconvert_exporter": "python",
   "pygments_lexer": "ipython3",
   "version": "3.12.4"
  }
 },
 "nbformat": 4,
 "nbformat_minor": 2
}
