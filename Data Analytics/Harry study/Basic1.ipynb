{
 "cells": [
  {
   "cell_type": "markdown",
   "metadata": {},
   "source": [
    "# Example 1: Convert a Numpy Array to a Pandas DataFrame"
   ]
  },
  {
   "cell_type": "code",
   "execution_count": 18,
   "metadata": {},
   "outputs": [
    {
     "name": "stdout",
     "output_type": "stream",
     "text": [
      "Convert Numpy array to Pandas DataFrame:\n",
      "    A   B   C\n",
      "0  60  89  92\n",
      "1  54  49  52\n",
      "2  89  97  34\n",
      "3  10  27  34\n",
      "4  41  41  96\n"
     ]
    }
   ],
   "source": [
    "import numpy as np\n",
    "import pandas as pd\n",
    "\n",
    "# 1. Create a Numpy array (5 rows, 3 columns)\n",
    "np_data = np.random.randint(1, 100, size=(5, 3)) # Random integers between 1 and 99\n",
    "\n",
    "# 2. Convert Numpy array to a Pandas DataFrame\n",
    "df = pd.DataFrame(np_data, columns = ['A','B','C'])\n",
    "\n",
    "# 3. Display the DataFrame\n",
    "print(\"Convert Numpy array to Pandas DataFrame:\")\n",
    "print(df)"
   ]
  },
  {
   "cell_type": "markdown",
   "metadata": {},
   "source": [
    "- np.random.randint(1, 100, size=(5,3)) : Creates a 5x3 array with random integers from 1 to 99.\n",
    "- pd.DataFrame(np_data, columns = ['A','B','C']) : Converts the NumPy array into Pandas DataFrame."
   ]
  },
  {
   "cell_type": "markdown",
   "metadata": {},
   "source": [
    "# Example 2: Data Summary & Basic Statistics"
   ]
  },
  {
   "cell_type": "code",
   "execution_count": 19,
   "metadata": {},
   "outputs": [
    {
     "name": "stdout",
     "output_type": "stream",
     "text": [
      "\n",
      " Data summary:\n",
      "              A          B          C\n",
      "count   5.00000   5.000000   5.000000\n",
      "mean   50.80000  60.600000  61.600000\n",
      "std    28.78715  30.737599  30.509015\n",
      "min    10.00000  27.000000  34.000000\n",
      "25%    41.00000  41.000000  34.000000\n",
      "50%    54.00000  49.000000  52.000000\n",
      "75%    60.00000  89.000000  92.000000\n",
      "max    89.00000  97.000000  96.000000\n",
      "\n",
      " Column-wise mean:\n",
      "A    50.8\n",
      "B    60.6\n",
      "C    61.6\n",
      "dtype: float64\n",
      "\n",
      " Max value in column 'A'\n",
      "89\n"
     ]
    }
   ],
   "source": [
    "print(\"\\n Data summary:\")\n",
    "print(df.describe())\n",
    "\n",
    "print(\"\\n Column-wise mean:\")\n",
    "print(df.mean())\n",
    "\n",
    "print(\"\\n Max value in column 'A'\")\n",
    "print(df['A'].max())"
   ]
  },
  {
   "cell_type": "markdown",
   "metadata": {},
   "source": [
    "# Example 3: Handling Missing Values(NaN)"
   ]
  },
  {
   "cell_type": "markdown",
   "metadata": {},
   "source": [
    "- .loc[2, 'B'] = np.nan: Introduces a missing value(NaN)\n",
    "- .isnull().sum(): Checks the number of missing values per column.\n",
    "- .fillna(df['B'].mean(), inplace=True): Replaces missing values with the column's mean\n",
    "\n",
    "- fillna is filling NaN."
   ]
  },
  {
   "cell_type": "code",
   "execution_count": null,
   "metadata": {},
   "outputs": [
    {
     "name": "stdout",
     "output_type": "stream",
     "text": [
      "\n",
      " Missing value check:\n",
      "A    0\n",
      "B    1\n",
      "C    0\n",
      "dtype: int64\n",
      "\n",
      " Data after filling missing values:\n",
      "    A     B   C\n",
      "0  60  89.0  92\n",
      "1  54  49.0  52\n",
      "2  89  51.5  34\n",
      "3  10  27.0  34\n",
      "4  41  41.0  96\n"
     ]
    },
    {
     "name": "stderr",
     "output_type": "stream",
     "text": [
      "C:\\Users\\USER\\AppData\\Local\\Temp\\ipykernel_24092\\3303314217.py:7: FutureWarning: A value is trying to be set on a copy of a DataFrame or Series through chained assignment using an inplace method.\n",
      "The behavior will change in pandas 3.0. This inplace method will never work because the intermediate object on which we are setting values always behaves as a copy.\n",
      "\n",
      "For example, when doing 'df[col].method(value, inplace=True)', try using 'df.method({col: value}, inplace=True)' or df[col] = df[col].method(value) instead, to perform the operation inplace on the original object.\n",
      "\n",
      "\n",
      "  df['B'].fillna(df['B'].mean(), inplace=True)\n"
     ]
    }
   ],
   "source": [
    "# Introduce missing values\n",
    "df.loc[2, 'B'] = np.nan\n",
    "\n",
    "# Check for missing values.\n",
    "print(\"\\n Missing value check:\")\n",
    "print(df.isnull().sum())\n",
    "\n",
    "# Fill missing values with column mean\n",
    "df['B'].fillna(df['B'].mean(), inplace=True)\n",
    "\n",
    "#Display DataFrame after filling missing values.\n",
    "print(\"\\n Data after filling missing values:\")\n",
    "print(df)"
   ]
  }
 ],
 "metadata": {
  "kernelspec": {
   "display_name": "base",
   "language": "python",
   "name": "python3"
  },
  "language_info": {
   "codemirror_mode": {
    "name": "ipython",
    "version": 3
   },
   "file_extension": ".py",
   "mimetype": "text/x-python",
   "name": "python",
   "nbconvert_exporter": "python",
   "pygments_lexer": "ipython3",
   "version": "3.12.4"
  }
 },
 "nbformat": 4,
 "nbformat_minor": 2
}
